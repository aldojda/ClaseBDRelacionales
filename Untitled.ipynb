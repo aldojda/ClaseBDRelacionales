{
 "cells": [
  {
   "cell_type": "code",
   "execution_count": 2,
   "id": "c731b555",
   "metadata": {},
   "outputs": [
    {
     "name": "stdout",
     "output_type": "stream",
     "text": [
      "Collecting package metadata (current_repodata.json): ...working... done\n",
      "Solving environment: ...working... done\n",
      "\n",
      "## Package Plan ##\n",
      "\n",
      "  environment location: C:\\Users\\Ojedaa01\\Anaconda3\n",
      "\n",
      "  added / updated specs:\n",
      "    - faker\n",
      "\n",
      "\n",
      "The following packages will be downloaded:\n",
      "\n",
      "    package                    |            build\n",
      "    ---------------------------|-----------------\n",
      "    conda-22.9.0               |   py39hcbf5309_1         968 KB  conda-forge\n",
      "    faker-15.1.1               |     pyhd8ed1ab_0         1.2 MB  conda-forge\n",
      "    ------------------------------------------------------------\n",
      "Note: you may need to restart the kernel to use updated packages.\n",
      "                                           Total:         2.1 MB\n",
      "\n",
      "The following NEW packages will be INSTALLED:\n",
      "\n",
      "\n",
      "  faker              conda-forge/noarch::faker-15.1.1-pyhd8ed1ab_0\n",
      "\n",
      "The following packages will be UPDATED:\n",
      "\n",
      "  ca-certificates                      2022.9.14-h5b45459_0 --> 2022.9.24-h5b45459_0\n",
      "  certifi                            2022.9.14-pyhd8ed1ab_0 --> 2022.9.24-pyhd8ed1ab_0\n",
      "  conda                               4.14.0-py39hcbf5309_0 --> 22.9.0-py39hcbf5309_1\n",
      "\n",
      "\n",
      "\n",
      "Downloading and Extracting Packages\n",
      "\n",
      "conda-22.9.0         | 968 KB    |            |   0% \n",
      "conda-22.9.0         | 968 KB    | 1          |   2% \n",
      "conda-22.9.0         | 968 KB    | ##8        |  28% \n",
      "conda-22.9.0         | 968 KB    | ########## | 100% \n",
      "conda-22.9.0         | 968 KB    | ########## | 100% \n",
      "\n",
      "faker-15.1.1         | 1.2 MB    |            |   0% \n",
      "faker-15.1.1         | 1.2 MB    | 1          |   1% \n",
      "faker-15.1.1         | 1.2 MB    | #5         |  16% \n",
      "faker-15.1.1         | 1.2 MB    | ########1  |  82% \n",
      "faker-15.1.1         | 1.2 MB    | ########## | 100% \n",
      "Preparing transaction: ...working... done\n",
      "Verifying transaction: ...working... done\n",
      "Executing transaction: ...working... done\n",
      "Retrieving notices: ...working... done\n"
     ]
    }
   ],
   "source": [
    "conda install -c conda-forge faker"
   ]
  },
  {
   "cell_type": "code",
   "execution_count": 8,
   "id": "ea5ce979",
   "metadata": {},
   "outputs": [
    {
     "name": "stdout",
     "output_type": "stream",
     "text": [
      "+1-657-910-9853x20427\n",
      "(063)545-0985\n",
      "008-757-0089\n",
      "+1-356-114-3187x32134\n",
      "149.315.1395x618\n"
     ]
    }
   ],
   "source": [
    "from faker import Faker\n",
    "fake = Faker()\n",
    "for _ in range(5):\n",
    "    print(fake.phone_number())"
   ]
  },
  {
   "cell_type": "code",
   "execution_count": 10,
   "id": "14f2b385",
   "metadata": {},
   "outputs": [
    {
     "name": "stdout",
     "output_type": "stream",
     "text": [
      "356 Lee Fall Suite 812\n",
      "Colleenland, OK 98930\n",
      "USNS Brooks\n",
      "FPO AE 22880\n",
      "82285 Jones Fort Apt. 924\n",
      "Port Johnfurt, CA 76328\n",
      "9309 Justin Ranch\n",
      "Michellehaven, KS 99624\n",
      "PSC 1579, Box 0553\n",
      "APO AP 92179\n"
     ]
    }
   ],
   "source": [
    "for _ in range(5):\n",
    "    print(fake.address())"
   ]
  },
  {
   "cell_type": "code",
   "execution_count": null,
   "id": "a19fae71",
   "metadata": {},
   "outputs": [],
   "source": []
  }
 ],
 "metadata": {
  "kernelspec": {
   "display_name": "Python 3 (ipykernel)",
   "language": "python",
   "name": "python3"
  },
  "language_info": {
   "codemirror_mode": {
    "name": "ipython",
    "version": 3
   },
   "file_extension": ".py",
   "mimetype": "text/x-python",
   "name": "python",
   "nbconvert_exporter": "python",
   "pygments_lexer": "ipython3",
   "version": "3.9.12"
  }
 },
 "nbformat": 4,
 "nbformat_minor": 5
}
